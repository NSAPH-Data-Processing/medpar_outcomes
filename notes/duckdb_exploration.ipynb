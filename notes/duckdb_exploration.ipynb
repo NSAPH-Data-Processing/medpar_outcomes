{
 "cells": [
  {
   "cell_type": "code",
   "execution_count": null,
   "id": "2a5e0a12-d4f3-4276-8690-742ab898b248",
   "metadata": {},
   "outputs": [],
   "source": [
    "import pandas as pd\n",
    "import duckdb\n",
    "import argparse\n",
    "import yaml\n",
    "import os"
   ]
  },
  {
   "cell_type": "code",
   "execution_count": null,
   "id": "a80f75e9-b87c-4609-a124-c5725f267e8d",
   "metadata": {},
   "outputs": [],
   "source": [
    "conn = duckdb.connect()"
   ]
  },
  {
   "cell_type": "code",
   "execution_count": null,
   "id": "c9681ddf-f0d8-4f2a-84f1-8d36a1304718",
   "metadata": {},
   "outputs": [],
   "source": [
    "# Specify the filename\n",
    "filename9 = './data/input/Section111ValidICD9-Jan2024.csv'\n",
    "filename10 = './data/input/Section111ValidICD10-Jan2024_edit.csv'"
   ]
  },
  {
   "cell_type": "code",
   "execution_count": null,
   "id": "ffe5bbdb-a04f-4659-9095-99cdeaf4ae0f",
   "metadata": {},
   "outputs": [],
   "source": [
    "\n",
    "# Create a DuckDB table from the CSV file\n",
    "conn.execute(f'CREATE TABLE valid_icd_9 AS SELECT * FROM read_csv_auto(\\'{filename9}\\', ALL_VARCHAR=1)')\n"
   ]
  },
  {
   "cell_type": "code",
   "execution_count": null,
   "id": "c0eb6ae5-5e4c-4048-90af-542377366806",
   "metadata": {},
   "outputs": [],
   "source": [
    "\n",
    "# Create a DuckDB table from the CSV file\n",
    "conn.execute(f'CREATE TABLE valid_icd_10 AS SELECT * FROM read_csv_auto(\\'{filename10}\\', ALL_VARCHAR=1)')"
   ]
  },
  {
   "cell_type": "code",
   "execution_count": null,
   "id": "85f33d0e-0a18-4a26-8c0a-720d702e8ddb",
   "metadata": {},
   "outputs": [],
   "source": [
    "\n",
    "# Execute the SQL query and fetch the results\n",
    "query = 'SELECT * FROM valid_icd_9 LIMIT 5'\n",
    "result = conn.execute(query).fetchdf()\n"
   ]
  },
  {
   "cell_type": "code",
   "execution_count": null,
   "id": "4520ac7c-6c99-4671-83f3-50f78a67ea23",
   "metadata": {},
   "outputs": [],
   "source": [
    "result"
   ]
  },
  {
   "cell_type": "code",
   "execution_count": null,
   "id": "6765f073-966a-4d99-a9ee-edc900134b10",
   "metadata": {},
   "outputs": [],
   "source": [
    "\n",
    "# Execute the SQL query and fetch the results\n",
    "query2 = 'SELECT * FROM valid_icd_10 LIMIT 5'\n",
    "result2 = conn.execute(query2).fetchdf()\n",
    "result2"
   ]
  },
  {
   "cell_type": "code",
   "execution_count": null,
   "id": "072b0627-5418-4f0c-9640-9bee93e83ec8",
   "metadata": {},
   "outputs": [],
   "source": [
    "\n",
    "# Execute the SQL query and fetch the results\n",
    "query = \"\"\"\n",
    "SELECT *\n",
    "FROM valid_icd_10\n",
    "WHERE column0 LIKE 'G20%'\n",
    "   OR column0 LIKE 'G2111%'\n",
    "ORDER BY column0\"\"\"\n",
    "result = conn.execute(query).fetchdf()\n",
    "result.column0"
   ]
  },
  {
   "cell_type": "code",
   "execution_count": null,
   "id": "20f30efb-1772-423c-a021-67cc58393410",
   "metadata": {},
   "outputs": [],
   "source": []
  },
  {
   "cell_type": "code",
   "execution_count": null,
   "id": "831c1900-cb87-459d-9fd2-462ce5e6b161",
   "metadata": {},
   "outputs": [],
   "source": [
    "SELECT \n",
    "        * \n",
    "    FROM \n",
    "        read_csv_auto('icd10_valid.csv', header = TRUE)\n",
    "    WHERE \n",
    "        SUBSTRING(icd10, 1, 3) >= 'I00' AND SUBSTRING(icd10, 1, 3) <= 'I99' OR\n",
    "        SUBSTRING(icd10, 1, 4) >= 'Q200' AND SUBSTRING(icd10, 1, 4) <= 'Q280'\n"
   ]
  },
  {
   "cell_type": "code",
   "execution_count": null,
   "id": "39da3cc7-5299-4429-af6a-f71bbb22e0e7",
   "metadata": {},
   "outputs": [],
   "source": []
  },
  {
   "cell_type": "code",
   "execution_count": null,
   "id": "545a9b15-c400-4e18-85d1-79db052f6522",
   "metadata": {},
   "outputs": [],
   "source": []
  },
  {
   "cell_type": "code",
   "execution_count": null,
   "id": "8dcbe3ef-57e6-49bc-85da-3f0d9e68677a",
   "metadata": {},
   "outputs": [],
   "source": [
    "\n",
    "# Define the path to the YAML file\n",
    "yaml_file_path = './conf/icd_codes/icd_codes_2.yml'\n",
    "\n",
    "# Read YAML file into a dictionary\n",
    "with open(yaml_file_path, 'r') as yaml_file:\n",
    "    icd_codes = yaml.safe_load(yaml_file)\n"
   ]
  },
  {
   "cell_type": "code",
   "execution_count": null,
   "id": "c3aedcdb-e7e2-4a44-ab97-dd62c8229683",
   "metadata": {},
   "outputs": [],
   "source": [
    "\n",
    "# Initialize empty dictionaries to store results\n",
    "icd9_result_dict = {}\n",
    "icd10_result_dict = {}\n",
    "\n",
    "# Loop through each section in icd_codes dictionary\n",
    "for key, values in icd_codes.items():\n",
    "    icd9_result_list = []\n",
    "    icd10_result_list = []\n",
    "\n",
    "    for icd9_code in values[\"icd9\"]:\n",
    "        query = f\"\"\"\n",
    "        SELECT *\n",
    "        FROM valid_icd_9\n",
    "        WHERE CODE LIKE '{icd9_code}%'\n",
    "        ORDER BY CODE\n",
    "        \"\"\"\n",
    "        result = conn.execute(query).fetchdf()\n",
    "        icd9_result_list.extend(result.CODE.tolist())\n",
    "\n",
    "    for icd10_code in values[\"icd10\"]:\n",
    "        query = f\"\"\"\n",
    "        SELECT *\n",
    "        FROM valid_icd_10\n",
    "        WHERE column0 LIKE '{icd10_code}%'\n",
    "        ORDER BY column0\n",
    "        \"\"\"\n",
    "        result = conn.execute(query).fetchdf()\n",
    "        icd10_result_list.extend(result.column0.tolist())\n",
    "\n",
    "    # Add icd9 and icd10 result lists to respective dictionaries\n",
    "    icd9_result_dict[key] = {\"icd9\": icd9_result_list}\n",
    "    icd10_result_dict[key] = {\"icd10\": icd10_result_list}\n"
   ]
  },
  {
   "cell_type": "code",
   "execution_count": null,
   "id": "c5d5f0fa-9505-4bd7-a59a-a9dadfaf1767",
   "metadata": {},
   "outputs": [],
   "source": [
    "icd9_result_dict"
   ]
  },
  {
   "cell_type": "code",
   "execution_count": null,
   "id": "9a0e504d-c69f-40ab-866c-94f37b2e08f5",
   "metadata": {},
   "outputs": [],
   "source": [
    "icd10_result_dict"
   ]
  },
  {
   "cell_type": "code",
   "execution_count": null,
   "id": "4e6d7c33-91f2-47ec-970d-d41e3d10a857",
   "metadata": {},
   "outputs": [],
   "source": [
    "%%bash\n",
    "python get_outcomes.py --year 2015\n"
   ]
  },
  {
   "cell_type": "code",
   "execution_count": null,
   "id": "c08f2b14-f1dc-4235-8408-5935136c981b",
   "metadata": {},
   "outputs": [],
   "source": [
    "query = \"\"\"SELECT bene_id, adm_id \n",
    "FROM (SELECT bene_id, adm_id, UNNEST(diagnoses) AS diag FROM './data/input/mbsf_medpar_denom/medpar_hospitalizations_2015.parquet')\n",
    "WHERE diag IN ('3320','3321','G20','G20A1','G20A2','G20B1','G20B2','G20C','G2111','G2119','G213','G214','G218','G219')\n",
    "\"\"\""
   ]
  },
  {
   "cell_type": "code",
   "execution_count": null,
   "id": "d635bfb7-8835-487c-9a97-a9c8eff7b720",
   "metadata": {},
   "outputs": [],
   "source": [
    "outcome_df = conn.execute(query).fetchdf()"
   ]
  },
  {
   "cell_type": "code",
   "execution_count": 1,
   "id": "5b4b9de9-f9eb-45e8-900e-078a919accef",
   "metadata": {},
   "outputs": [
    {
     "name": "stderr",
     "output_type": "stream",
     "text": [
      "Traceback (most recent call last):\n",
      "  File \"/n/dominici_nsaph_l3/Lab/data_processing/medpar_outcomes/kezia/get_outcomes.py\", line 1, in <module>\n",
      "    import pandas as pd\n",
      "  File \"/n/home_fasse/kirene/.conda/envs/dorieh/lib/python3.10/site-packages/pandas/__init__.py\", line 48, in <module>\n",
      "    from pandas.core.api import (\n",
      "  File \"/n/home_fasse/kirene/.conda/envs/dorieh/lib/python3.10/site-packages/pandas/core/api.py\", line 27, in <module>\n",
      "    from pandas.core.arrays import Categorical\n",
      "  File \"/n/home_fasse/kirene/.conda/envs/dorieh/lib/python3.10/site-packages/pandas/core/arrays/__init__.py\", line 1, in <module>\n",
      "    from pandas.core.arrays.arrow import ArrowExtensionArray\n",
      "  File \"/n/home_fasse/kirene/.conda/envs/dorieh/lib/python3.10/site-packages/pandas/core/arrays/arrow/__init__.py\", line 1, in <module>\n",
      "    from pandas.core.arrays.arrow.array import ArrowExtensionArray\n",
      "  File \"/n/home_fasse/kirene/.conda/envs/dorieh/lib/python3.10/site-packages/pandas/core/arrays/arrow/array.py\", line 52, in <module>\n",
      "    import pyarrow.compute as pc\n",
      "  File \"/n/home_fasse/kirene/.conda/envs/dorieh/lib/python3.10/site-packages/pyarrow/compute.py\", line 318, in <module>\n"
     ]
    },
    {
     "name": "stdout",
     "output_type": "stream",
     "text": [
      "Error while terminating subprocess (pid=2891803): \n"
     ]
    }
   ],
   "source": [
    "%%bash\n",
    "\n",
    "for year in {2000..2016}\n",
    "do\n",
    "    python get_outcomes.py --year $year\n",
    "done"
   ]
  },
  {
   "cell_type": "code",
   "execution_count": 1,
   "id": "61e55d05-3a33-4e94-9de7-789d35653ff6",
   "metadata": {},
   "outputs": [],
   "source": [
    "\n",
    "import pyarrow.parquet as pq\n",
    "import pandas as pd\n"
   ]
  },
  {
   "cell_type": "code",
   "execution_count": 2,
   "id": "fffd0b85-baac-439f-adc9-b6f1b32cadb6",
   "metadata": {},
   "outputs": [
    {
     "ename": "NameError",
     "evalue": "name 'pq' is not defined",
     "output_type": "error",
     "traceback": [
      "\u001b[0;31m---------------------------------------------------------------------------\u001b[0m",
      "\u001b[0;31mNameError\u001b[0m                                 Traceback (most recent call last)",
      "Cell \u001b[0;32mIn [2], line 5\u001b[0m\n\u001b[1;32m      2\u001b[0m parquet_file \u001b[38;5;241m=\u001b[39m \u001b[38;5;124m'\u001b[39m\u001b[38;5;124mdata/output/medpar_outcomes/icd_codes_4/all_icd_2000.parquet\u001b[39m\u001b[38;5;124m'\u001b[39m\n\u001b[1;32m      4\u001b[0m \u001b[38;5;66;03m# Read the Parquet file into a Pandas DataFrame\u001b[39;00m\n\u001b[0;32m----> 5\u001b[0m table \u001b[38;5;241m=\u001b[39m \u001b[43mpq\u001b[49m\u001b[38;5;241m.\u001b[39mread_\n\u001b[1;32m      6\u001b[0m table(parquet_file)\n\u001b[1;32m      7\u001b[0m df \u001b[38;5;241m=\u001b[39m table\u001b[38;5;241m.\u001b[39mto_pandas()\n",
      "\u001b[0;31mNameError\u001b[0m: name 'pq' is not defined"
     ]
    }
   ],
   "source": [
    "\n",
    "# Specify the path to your Parquet file\n",
    "parquet_file = 'data/output/medpar_outcomes/icd_codes_4/all_icd_2000.parquet'\n",
    "\n",
    "# Read the Parquet file into a Pandas DataFrame\n",
    "table = pq.read_\n",
    "table(parquet_file)\n",
    "df = table.to_pandas()\n",
    "\n"
   ]
  },
  {
   "cell_type": "code",
   "execution_count": null,
   "id": "eaea9beb-6941-4aaf-b5d4-0c63ae72c051",
   "metadata": {},
   "outputs": [],
   "source": []
  },
  {
   "cell_type": "code",
   "execution_count": null,
   "id": "f79e0e9c-1fee-4143-9da5-59dcea835b77",
   "metadata": {},
   "outputs": [],
   "source": []
  }
 ],
 "metadata": {
  "kernelspec": {
   "display_name": "Python [conda env:.conda-dorieh]",
   "language": "python",
   "name": "conda-env-.conda-dorieh-py"
  },
  "language_info": {
   "codemirror_mode": {
    "name": "ipython",
    "version": 3
   },
   "file_extension": ".py",
   "mimetype": "text/x-python",
   "name": "python",
   "nbconvert_exporter": "python",
   "pygments_lexer": "ipython3",
   "version": "3.10.8"
  }
 },
 "nbformat": 4,
 "nbformat_minor": 5
}
