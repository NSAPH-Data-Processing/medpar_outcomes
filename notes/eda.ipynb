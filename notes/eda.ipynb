{
 "cells": [
  {
   "cell_type": "code",
   "execution_count": null,
   "metadata": {},
   "outputs": [],
   "source": [
    "import duckdb"
   ]
  },
  {
   "cell_type": "code",
   "execution_count": null,
   "metadata": {},
   "outputs": [],
   "source": [
    "import os \n",
    "os.listdir('../data/output/medpar_outcomes/icd_codes_5')"
   ]
  },
  {
   "cell_type": "code",
   "execution_count": null,
   "metadata": {},
   "outputs": [],
   "source": [
    "conn = duckdb.connect()"
   ]
  },
  {
   "cell_type": "code",
   "execution_count": null,
   "metadata": {},
   "outputs": [],
   "source": [
    "prefix = \"../data/output/medpar_outcomes/icd_codes_5/outcomes\"\n",
    "\n",
    "conn.execute(f\"\"\"\n",
    "    SELECT * \n",
    "    FROM '{prefix}_2000.parquet'\n",
    "    LIMIT 5\n",
    "\"\"\").fetchdf()"
   ]
  },
  {
   "cell_type": "code",
   "execution_count": null,
   "metadata": {},
   "outputs": [],
   "source": [
    "conn.execute(\"\"\"\n",
    "    SELECT * \n",
    "    FROM '../data/output/medpar_outcomes/icd_codes_6/zip_year_counts_2000.parquet'\n",
    "    LIMIT 5\n",
    "\"\"\").fetchdf()"
   ]
  },
  {
   "cell_type": "code",
   "execution_count": null,
   "metadata": {},
   "outputs": [],
   "source": [
    "conn.execute(\"\"\"\n",
    "    SELECT \n",
    "        year,\n",
    "        SUM(alzhdmta) as alzhdmta\n",
    "    FROM \n",
    "        '../data/output/medpar_outcomes/icd_codes_6/zip_year_counts_*.parquet'\n",
    "    GROUP BY year\n",
    "    ORDER BY year\n",
    "\"\"\").fetchdf()"
   ]
  }
 ],
 "metadata": {
  "kernelspec": {
   "display_name": "mbsf_mortality_denom_env",
   "language": "python",
   "name": "python3"
  },
  "language_info": {
   "codemirror_mode": {
    "name": "ipython",
    "version": 3
   },
   "file_extension": ".py",
   "mimetype": "text/x-python",
   "name": "python",
   "nbconvert_exporter": "python",
   "pygments_lexer": "ipython3",
   "version": "3.10.13"
  },
  "orig_nbformat": 4
 },
 "nbformat": 4,
 "nbformat_minor": 2
}
