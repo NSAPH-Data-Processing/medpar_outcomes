{
 "cells": [
  {
   "cell_type": "code",
   "execution_count": 8,
   "metadata": {},
   "outputs": [],
   "source": [
    "import duckdb\n",
    "import yaml"
   ]
  },
  {
   "cell_type": "code",
   "execution_count": 2,
   "metadata": {},
   "outputs": [],
   "source": [
    "def get_icd_codes(medpar_hospitalizations_prefix, start_year, end_year, output_file):\n",
    "    \"\"\"\n",
    "    Extracts distinct ICD-10 codes starting with 'J' across multiple years.\n",
    "    Saves them to a YAML File with proper formatting. \n",
    "\n",
    "    Params:\n",
    "    medpar_hospitalizations_prefix (str): File prefix for the Parquet files.\n",
    "    start_year (int): Start year (e.g., 2015).\n",
    "    end_year (int): End year (e.g., 2018).\n",
    "    output_file (str): Path to save the output YAML file.\n",
    "    \"\"\"\n",
    "\n",
    "    conn = duckdb.connect()\n",
    "    icd10_codes = []\n",
    "\n",
    "    for year in range(start_year, end_year+1):\n",
    "        file = f\"{medpar_hospitalizations_prefix}_{year}.parquet\"\n",
    "        print(f\"Processing {file}...\")\n",
    "\n",
    "        #sql query\n",
    "        icd_code_query = f\"\"\"\n",
    "        WITH icd_diag AS (\n",
    "        SELECT UNNEST(diagnoses) as diag\n",
    "        FROM '{file}'\n",
    "        )\n",
    "\n",
    "        SELECT DISTINCT diag \n",
    "        FROM icd_diag\n",
    "        WHERE diag LIKE 'J%'\n",
    "        \"\"\"\n",
    "\n",
    "        #Execute the query and fetch results \n",
    "        icd_codes_df = conn.execute(icd_code_query).fetchdf()\n",
    "\n",
    "        icd10_codes.extend(icd_codes_df['diag'].tolist())\n",
    "\n",
    "    #close the connection \n",
    "    conn.close()\n",
    "\n",
    "    # Remove duplicates from the ICD-10 codes list, if any, and join them as a comma-separated string\n",
    "    icd10_codes = '[' + ', '.join(f'\"{code}\"' for code in sorted(set(icd10_codes))) + ']'\n",
    "\n",
    "    # Construct the final dictionary with the icd10 codes as a comma-separated string\n",
    "    icd_codes_dict = {\n",
    "        'respiratory_diseases': {\n",
    "            'long_name': 'Diseases of the Respiratory System',\n",
    "            'icd10': icd10_codes\n",
    "        }\n",
    "    }\n",
    "\n",
    "    # Convert the dictionary to a YAML string\n",
    "    yaml_str = yaml.dump(icd_codes_dict, default_flow_style=False, sort_keys=False)\n",
    "    yaml_str = yaml_str.replace(\"'\", \"\")  # Remove single quotes\n",
    "\n",
    "    # Save the YAML File \n",
    "    with open(output_file, 'w') as yaml_file:\n",
    "        yaml_file.write(yaml_str)\n"
   ]
  },
  {
   "cell_type": "code",
   "execution_count": null,
   "metadata": {},
   "outputs": [],
   "source": [
    "medpar_hospitalizations_prefix = '../data/input/mbsf_medpar_denom/medpar_hospitalizations'\n",
    "output_file = '../conf/icd_codes/icd_codes_8.yml'\n",
    "get_icd_codes(medpar_hospitalizations_prefix, 2015, 2018, output_file)"
   ]
  },
  {
   "cell_type": "code",
   "execution_count": 11,
   "metadata": {},
   "outputs": [
    {
     "data": {
      "text/plain": [
       "342"
      ]
     },
     "execution_count": 11,
     "metadata": {},
     "output_type": "execute_result"
    }
   ],
   "source": [
    "# read yaml file\n",
    "with open(output_file, 'r') as file:\n",
    "    icd_codes = yaml.safe_load(file)\n",
    "\n",
    "len(icd_codes[\"respiratory_diseases\"][\"icd10\"])"
   ]
  },
  {
   "cell_type": "code",
   "execution_count": 12,
   "metadata": {},
   "outputs": [
    {
     "data": {
      "text/html": [
       "<div>\n",
       "<style scoped>\n",
       "    .dataframe tbody tr th:only-of-type {\n",
       "        vertical-align: middle;\n",
       "    }\n",
       "\n",
       "    .dataframe tbody tr th {\n",
       "        vertical-align: top;\n",
       "    }\n",
       "\n",
       "    .dataframe thead th {\n",
       "        text-align: right;\n",
       "    }\n",
       "</style>\n",
       "<table border=\"1\" class=\"dataframe\">\n",
       "  <thead>\n",
       "    <tr style=\"text-align: right;\">\n",
       "      <th></th>\n",
       "      <th>diag</th>\n",
       "    </tr>\n",
       "  </thead>\n",
       "  <tbody>\n",
       "    <tr>\n",
       "      <th>0</th>\n",
       "      <td>J40</td>\n",
       "    </tr>\n",
       "    <tr>\n",
       "      <th>1</th>\n",
       "      <td>J9612</td>\n",
       "    </tr>\n",
       "    <tr>\n",
       "      <th>2</th>\n",
       "      <td>J370</td>\n",
       "    </tr>\n",
       "    <tr>\n",
       "      <th>3</th>\n",
       "      <td>J9611</td>\n",
       "    </tr>\n",
       "    <tr>\n",
       "      <th>4</th>\n",
       "      <td>J849</td>\n",
       "    </tr>\n",
       "    <tr>\n",
       "      <th>...</th>\n",
       "      <td>...</td>\n",
       "    </tr>\n",
       "    <tr>\n",
       "      <th>337</th>\n",
       "      <td>J1281</td>\n",
       "    </tr>\n",
       "    <tr>\n",
       "      <th>338</th>\n",
       "      <td>J8401</td>\n",
       "    </tr>\n",
       "    <tr>\n",
       "      <th>339</th>\n",
       "      <td>J95863</td>\n",
       "    </tr>\n",
       "    <tr>\n",
       "      <th>340</th>\n",
       "      <td>J671</td>\n",
       "    </tr>\n",
       "    <tr>\n",
       "      <th>341</th>\n",
       "      <td>J674</td>\n",
       "    </tr>\n",
       "  </tbody>\n",
       "</table>\n",
       "<p>342 rows × 1 columns</p>\n",
       "</div>"
      ],
      "text/plain": [
       "       diag\n",
       "0       J40\n",
       "1     J9612\n",
       "2      J370\n",
       "3     J9611\n",
       "4      J849\n",
       "..      ...\n",
       "337   J1281\n",
       "338   J8401\n",
       "339  J95863\n",
       "340    J671\n",
       "341    J674\n",
       "\n",
       "[342 rows x 1 columns]"
      ]
     },
     "execution_count": 12,
     "metadata": {},
     "output_type": "execute_result"
    }
   ],
   "source": [
    "## alternative query approach\n",
    "\n",
    "# ICD-10 codes have letter prefixes. For example, codes starting with 'J' are related to diseases of the respiratory system.\n",
    "# ICD-9 codes do not have letter prefixes, so there is no need to filter the years, except maybe for computational efficiency).\n",
    "# Still, the following query runs fast with only 4GB of RAM and 2 cores on a FASSE compute node sustaining a remote desktop.\n",
    "\n",
    "medpar_hospitalizations_prefix = '../data/input/mbsf_medpar_denom/medpar_hospitalizations'\n",
    "\n",
    "conn = duckdb.connect()\n",
    "icd_code_query = f\"\"\"\n",
    "    WITH icd_diag AS (\n",
    "    SELECT UNNEST(diagnoses) as diag\n",
    "    FROM '{medpar_hospitalizations_prefix}_*.parquet'\n",
    "    )\n",
    "\n",
    "    SELECT DISTINCT diag \n",
    "    FROM icd_diag\n",
    "    WHERE diag LIKE 'J%'\n",
    "    \"\"\"\n",
    "df = conn.execute(icd_code_query).fetchdf()\n",
    "\n",
    "df"
   ]
  },
  {
   "cell_type": "code",
   "execution_count": 13,
   "metadata": {},
   "outputs": [],
   "source": [
    "conn.close()"
   ]
  },
  {
   "cell_type": "code",
   "execution_count": 14,
   "metadata": {},
   "outputs": [
    {
     "data": {
      "text/plain": [
       "342"
      ]
     },
     "execution_count": 14,
     "metadata": {},
     "output_type": "execute_result"
    }
   ],
   "source": [
    "df.shape[0]"
   ]
  }
 ],
 "metadata": {
  "kernelspec": {
   "display_name": "medpar_outcomes_env",
   "language": "python",
   "name": "python3"
  },
  "language_info": {
   "codemirror_mode": {
    "name": "ipython",
    "version": 3
   },
   "file_extension": ".py",
   "mimetype": "text/x-python",
   "name": "python",
   "nbconvert_exporter": "python",
   "pygments_lexer": "ipython3",
   "version": "3.11.7"
  }
 },
 "nbformat": 4,
 "nbformat_minor": 2
}
