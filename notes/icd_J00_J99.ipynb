{
 "cells": [
  {
   "cell_type": "code",
   "execution_count": 1,
   "metadata": {},
   "outputs": [],
   "source": [
    "import pandas as pd\n",
    "import duckdb\n",
    "import argparse\n",
    "import yaml\n",
    "import os"
   ]
  },
  {
   "cell_type": "code",
   "execution_count": 2,
   "metadata": {},
   "outputs": [],
   "source": [
    "def get_icd_codes(medpar_hospitalizations_prefix, start_year, end_year, output_file):\n",
    "    \"\"\"\n",
    "    Extracts distinct ICD-10 codes starting with 'J' across multiple years.\n",
    "    Saves them to a YAML File with proper formatting. \n",
    "\n",
    "    Params:\n",
    "    medpar_hospitalizations_prefix (str): File prefix for the Parquet files.\n",
    "    start_year (int): Start year (e.g., 2015).\n",
    "    end_year (int): End year (e.g., 2018).\n",
    "    output_file (str): Path to save the output YAML file.\n",
    "    \"\"\"\n",
    "\n",
    "    conn = duckdb.connect()\n",
    "    icd10_codes = []\n",
    "\n",
    "    for year in range(start_year, end_year+1):\n",
    "        file = f\"{medpar_hospitalizations_prefix}_{year}.parquet\"\n",
    "        print(f\"Processing {file}...\")\n",
    "\n",
    "        #sql query\n",
    "        icd_code_query = f\"\"\"\n",
    "        WITH icd_diag AS (\n",
    "        SELECT UNNEST(diagnoses) as diag\n",
    "        FROM '{file}'\n",
    "        )\n",
    "\n",
    "        SELECT DISTINCT diag \n",
    "        FROM icd_diag\n",
    "        WHERE diag LIKE 'J%'\n",
    "        \"\"\"\n",
    "\n",
    "        #Execute the query and fetch results \n",
    "        icd_codes_df = conn.execute(icd_code_query).fetchdf()\n",
    "\n",
    "        icd10_codes.extend(icd_codes_df['diag'].tolist())\n",
    "\n",
    "    #close the connection \n",
    "    conn.close()\n",
    "\n",
    "    # Remove duplicates from the ICD-10 codes list, if any, and join them as a comma-separated string\n",
    "    icd10_codes = '[' + ', '.join(f'\"{code}\"' for code in sorted(set(icd10_codes))) + ']'\n",
    "\n",
    "    # Construct the final dictionary with the icd10 codes as a comma-separated string\n",
    "    icd_codes_dict = {\n",
    "        'respiratory_diseases': {\n",
    "            'long_name': 'Diseases of the Respiratory System',\n",
    "            'icd10': icd10_codes\n",
    "        }\n",
    "    }\n",
    "\n",
    "    # Convert the dictionary to a YAML string\n",
    "    yaml_str = yaml.dump(icd_codes_dict, default_flow_style=False, sort_keys=False)\n",
    "    yaml_str = yaml_str.replace(\"'\", \"\")  # Remove single quotes\n",
    "\n",
    "    # Save the YAML File \n",
    "    with open(output_file, 'w') as yaml_file:\n",
    "        yaml_file.write(yaml_str)\n"
   ]
  },
  {
   "cell_type": "code",
   "execution_count": 3,
   "metadata": {},
   "outputs": [
    {
     "name": "stdout",
     "output_type": "stream",
     "text": [
      "Processing ../data/input/mbsf_medpar_denom/medpar_hospitalizations_2015.parquet...\n",
      "Processing ../data/input/mbsf_medpar_denom/medpar_hospitalizations_2016.parquet...\n",
      "Processing ../data/input/mbsf_medpar_denom/medpar_hospitalizations_2017.parquet...\n",
      "Processing ../data/input/mbsf_medpar_denom/medpar_hospitalizations_2018.parquet...\n"
     ]
    }
   ],
   "source": [
    "medpar_hospitalizations_prefix = '../data/input/mbsf_medpar_denom/medpar_hospitalizations'\n",
    "output_file = '../conf/icd_codes/icd_codes_8.yml'\n",
    "get_icd_codes(medpar_hospitalizations_prefix, 2015, 2018, output_file)"
   ]
  }
 ],
 "metadata": {
  "kernelspec": {
   "display_name": "medpar_outcomes_env",
   "language": "python",
   "name": "python3"
  },
  "language_info": {
   "codemirror_mode": {
    "name": "ipython",
    "version": 3
   },
   "file_extension": ".py",
   "mimetype": "text/x-python",
   "name": "python",
   "nbconvert_exporter": "python",
   "pygments_lexer": "ipython3",
   "version": "3.11.9"
  }
 },
 "nbformat": 4,
 "nbformat_minor": 2
}
