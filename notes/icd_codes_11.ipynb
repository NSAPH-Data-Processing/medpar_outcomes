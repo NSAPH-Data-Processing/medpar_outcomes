{
 "cells": [
  {
   "cell_type": "code",
   "execution_count": null,
   "metadata": {},
   "outputs": [],
   "source": [
    "import pandas as pd"
   ]
  },
  {
   "cell_type": "code",
   "execution_count": null,
   "metadata": {},
   "outputs": [],
   "source": [
    "icd9_file = pd.read_excel('./Section111ValidICD9-Jan2024.xlsx')\n",
    "icd10_file = pd.read_excel('./Section111ValidICD10-Jan2024.xlsx')"
   ]
  },
  {
   "cell_type": "code",
   "execution_count": null,
   "metadata": {},
   "outputs": [],
   "source": [
    "# Function to match ICD codes\n",
    "def match_codes(df, codes):\n",
    "    pattern = f\"^(?:{'|'.join(codes)})\"\n",
    "    matched = df[df['CODE'].astype(str).str.contains(pattern, regex=True)]\n",
    "    return matched['CODE'].unique()"
   ]
  },
  {
   "cell_type": "code",
   "execution_count": null,
   "metadata": {},
   "outputs": [],
   "source": [
    "# Function to match ICD codes\n",
    "def match_codes(df, codes):\n",
    "    pattern = f\"^(?:{'|'.join(codes)})\"\n",
    "    matched = df[df['CODE'].astype(str).str.contains(pattern, regex=True)]\n",
    "    return matched['CODE'].unique()"
   ]
  },
  {
   "cell_type": "code",
   "execution_count": null,
   "metadata": {},
   "outputs": [],
   "source": [
    "#icd9 and icd10 codes for each diagnosis requested \n",
    "\n",
    "conditions = {\n",
    "    \"Total Cardiovascular Disease (CVD)\": {'icd9': [f\"{i}\" for i in range(401,450)], 'icd10': [f\"I{str(i).zfill(2)}\" for i in range(10, 80)]},\n",
    "    \"Congestive Heart Failure (CHF)\": {'icd9': ['428'], 'icd10': ['I50']},\n",
    "    \"Myocardial Infarction (MI)\": {'icd9': ['410'], 'icd10': [f\"I{str(i).zfill(2)}\" for i in range(21,23)]},\n",
    "    \"Ischemic Stroke\": {'icd9': ['433','434', '436'], 'icd10': ['I63']},\n",
    "    \"Hemorrhagic Stroke\": {'icd9': ['430','431', '432'], 'icd10': [f\"I{str(i).zfill(2)}\" for i in range(60, 63)]},\n",
    "    \"Stroke\": {'icd9': ['430', '431', '432', '433', '434', '436'], 'icd10': [f\"I{str(i).zfill(2)}\" for i in range(60, 64)]},\n",
    "    \"Pneumonia\": {'icd9': [f\"{i}\" for i in range(480, 488)], 'icd10': [f\"J{str(i).zfill(2)}\" for i in range(9, 19)]},\n",
    "    \"Chronic Obstructive Pulmonary Disease (COPD)\": {'icd9': ['490', '491', '492', '494', '495', '496'], 'icd10': [f\"J{str(i).zfill(2)}\" for i in range(40, 45)] + ['J47']},\n",
    "    \"Hypertension\": {'icd9': ['401'], 'icd10': ['I10']},\n",
    "    \"Diabetes\": {'icd9': ['250'], 'icd10': [f\"E{str(i).zfill(2)}\" for i in range(10, 15)]},\n",
    "    \"Bronchus, Trachea, & Lung Cancer\": {'icd9': ['162'], 'icd10': ['C33', 'C34']},\n",
    "    \"Melanoma\": {'icd9': ['172'], 'icd10': ['C43']},\n",
    "    \"Breast Cancer\": {'icd9': ['174','175'], 'icd10': ['C50']},\n",
    "    \"Leukemia\": {'icd9': [f\"{i}\" for i in range(203, 209)], 'icd10': [f\"C{str(i).zfill(2)}\" for i in range(90, 96)]},\n",
    "    \"All Cancer\": {'icd9': [f\"{i}\" for i in range(140, 210)], 'icd10': [f\"C{str(i).zfill(2)}\" for i in range(0, 77)] + [f\"C{str(i).zfill(2)}\" for i in range(80, 98)] + ['C7A']},\n",
    "    \"All Cancer minus Bronchus, Trachea, & Lung\": {'icd9': [f\"{i}\" for i in range(140, 162)] + [f\"{i}\" for i in range(163, 210)], 'icd10': [f\"C{str(i).zfill(2)}\" for i in range(0, 33)] + [f\"C{str(i).zfill(2)}\" for i in range(35, 77)] + [f\"C{str(i).zfill(2)}\" for i in range(80, 98)] + ['C7A']},\n",
    "}"
   ]
  },
  {
   "cell_type": "code",
   "execution_count": null,
   "metadata": {},
   "outputs": [],
   "source": [
    "short_names = {\n",
    "    \"Total Cardiovascular Disease (CVD)\": \"cvd\",\n",
    "    \"Congestive Heart Failure (CHF)\": \"chf\",\n",
    "    \"Myocardial Infarction (MI)\": \"mi\",\n",
    "    \"Ischemic Stroke\": \"isch_stroke\",\n",
    "    \"Hemorrhagic Stroke\": \"hem_stroke\",\n",
    "    \"Stroke\": \"stroke\",\n",
    "    \"Pneumonia\": \"pneumonia\",\n",
    "    \"Chronic Obstructive Pulmonary Disease (COPD)\": \"copd\",\n",
    "    \"Hypertension\": \"htn\",\n",
    "    \"Diabetes\": \"diabetes\",\n",
    "    \"Bronchus, Trachea, & Lung Cancer\": \"lung_cancer\",\n",
    "    \"Melanoma\": \"melanoma\",\n",
    "    \"Breast Cancer\": \"breast_cancer\",\n",
    "    \"Leukemia\": \"leukemia\",\n",
    "    \"All Cancer\": \"all_cancer\",\n",
    "    \"All Cancer minus Bronchus, Trachea, & Lung\": \"all_cancer_minus_lung\"\n",
    "}"
   ]
  },
  {
   "cell_type": "code",
   "execution_count": null,
   "metadata": {},
   "outputs": [],
   "source": [
    "yaml_output = \" \"\n",
    "\n",
    "for condition, codes in conditions.items():\n",
    "\n",
    "    identifier = short_names[condition]\n",
    "    icd9_codes = match_codes(icd9_file, codes['icd9']) if codes['icd9'] else []\n",
    "    icd10_codes = match_codes(icd10_file, codes['icd10']) if codes['icd10'] else []\n",
    "\n",
    "    yaml_section = f\"\"\"\n",
    "{identifier} :\n",
    "    long_name : \"{condition}\"\n",
    "    icd9 : {list(icd9_codes)}\n",
    "    icd10 : {list(icd10_codes)}\n",
    "\"\"\"\n",
    "    yaml_output += yaml_section\n",
    "\n",
    "with open('../conf/icd_codes/icd_codes_11.yaml', 'w') as file:\n",
    "    file.write(yaml_output)\n",
    "\n",
    "print(yaml_output)"
   ]
  }
 ],
 "metadata": {
  "language_info": {
   "name": "python"
  }
 },
 "nbformat": 4,
 "nbformat_minor": 2
}
