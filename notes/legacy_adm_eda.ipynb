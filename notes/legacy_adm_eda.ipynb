{
 "cells": [
  {
   "cell_type": "code",
   "execution_count": 20,
   "metadata": {},
   "outputs": [],
   "source": [
    "import pandas as pd \n",
    "import duckdb "
   ]
  },
  {
   "cell_type": "code",
   "execution_count": 21,
   "metadata": {},
   "outputs": [],
   "source": [
    "conn = duckdb.connect()"
   ]
  },
  {
   "cell_type": "code",
   "execution_count": null,
   "metadata": {},
   "outputs": [],
   "source": [
    "prefix = \"../data/input/dw_legacy_medicare_00_16/adm\"\n",
    "years = range(2000, 2017) \n",
    "results = []\n",
    "\n",
    "for year in years:\n",
    "    conn.execute(f\"\"\"\n",
    "    CREATE OR REPLACE TABLE adm_data AS\n",
    "    SELECT * FROM read_parquet('{prefix}_{year}.parquet');\n",
    "    \"\"\")\n",
    "\n",
    "    # Query to find duplicates\n",
    "    query = f\"\"\"\n",
    "    SELECT COUNT(*) AS duplicate_count\n",
    "    FROM (\n",
    "        SELECT adm_id, bene_id, admission_date, diagnoses, discharge_date, year, admission_source,\n",
    "               COUNT(*) AS cnt\n",
    "        FROM adm_data\n",
    "        GROUP BY ALL\n",
    "        HAVING COUNT(*) > 1\n",
    "    ) AS duplicates\n",
    "    \"\"\"\n",
    "\n",
    "    duplicate_count = conn.execute(query).fetchone()[0]\n",
    "    results.append((year, duplicate_count))\n",
    "\n",
    "    conn.execute(\"DROP TABLE adm_data;\")\n",
    "\n",
    "df_results = pd.DataFrame(results, columns=[\"Year\", \"Duplicate_Count\"])\n",
    "\n",
    "# results\n",
    "print(\"Year-wise Duplicate Counts:\")\n",
    "print(df_results)\n",
    "\n",
    "conn.close()"
   ]
  }
 ],
 "metadata": {
  "kernelspec": {
   "display_name": "medpar_outcomes_env",
   "language": "python",
   "name": "python3"
  },
  "language_info": {
   "codemirror_mode": {
    "name": "ipython",
    "version": 3
   },
   "file_extension": ".py",
   "mimetype": "text/x-python",
   "name": "python",
   "nbconvert_exporter": "python",
   "pygments_lexer": "ipython3",
   "version": "3.11.9"
  }
 },
 "nbformat": 4,
 "nbformat_minor": 2
}
