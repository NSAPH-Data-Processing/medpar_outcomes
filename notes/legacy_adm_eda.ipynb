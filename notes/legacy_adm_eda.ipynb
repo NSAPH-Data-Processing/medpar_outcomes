{
 "cells": [
  {
   "cell_type": "code",
   "execution_count": 1,
   "metadata": {},
   "outputs": [],
   "source": [
    "import pandas as pd \n",
    "import duckdb "
   ]
  },
  {
   "cell_type": "code",
   "execution_count": 2,
   "metadata": {},
   "outputs": [],
   "source": [
    "conn = duckdb.connect()"
   ]
  },
  {
   "cell_type": "code",
   "execution_count": 3,
   "metadata": {},
   "outputs": [
    {
     "name": "stdout",
     "output_type": "stream",
     "text": [
      "2000\n",
      "2001\n",
      "2002\n",
      "2003\n",
      "2004\n",
      "2005\n",
      "2007\n",
      "2008\n",
      "2009\n",
      "2010\n",
      "2011\n",
      "2012\n",
      "2013\n",
      "2014\n",
      "2015\n",
      "2016\n",
      "Year-wise Duplicate Counts:\n",
      "    Year  Duplicate_Count\n",
      "0   2000                0\n",
      "1   2001                0\n",
      "2   2002                0\n",
      "3   2003                0\n",
      "4   2004                0\n",
      "5   2005                0\n",
      "6   2007                0\n",
      "7   2008                0\n",
      "8   2009                0\n",
      "9   2010                0\n",
      "10  2011                0\n",
      "11  2012                0\n",
      "12  2013                0\n",
      "13  2014                0\n",
      "14  2015                0\n",
      "15  2016                0\n"
     ]
    }
   ],
   "source": [
    "prefix = \"data/input/mbsf_medpar_denom_legacy/inpatient\"\n",
    "years = list(range(2000, 2016+1))\n",
    "years.remove(2006)\n",
    "results = []\n",
    "\n",
    "for year in years:\n",
    "    print(year)\n",
    "    conn.execute(f\"\"\"\n",
    "    CREATE OR REPLACE TABLE adm_data AS\n",
    "    SELECT * FROM read_parquet('{prefix}_{year}.parquet');\n",
    "    \"\"\")\n",
    "\n",
    "    # Query to find duplicates\n",
    "    query = f\"\"\"\n",
    "    SELECT COUNT(*) AS duplicate_count\n",
    "    FROM (\n",
    "        SELECT adm_id, bene_id, admission_date, diagnoses, discharge_date, year, adm_source,\n",
    "               COUNT(*) AS cnt\n",
    "        FROM adm_data\n",
    "        GROUP BY ALL\n",
    "        HAVING COUNT(*) > 1\n",
    "    ) AS duplicates\n",
    "    \"\"\"\n",
    "\n",
    "    duplicate_count = conn.execute(query).fetchone()[0]\n",
    "    results.append((year, duplicate_count))\n",
    "\n",
    "    conn.execute(\"DROP TABLE adm_data;\")\n",
    "\n",
    "df_results = pd.DataFrame(results, columns=[\"Year\", \"Duplicate_Count\"])\n",
    "\n",
    "# results\n",
    "print(\"Year-wise Duplicate Counts:\")\n",
    "print(df_results)\n",
    "\n",
    "conn.close()"
   ]
  }
 ],
 "metadata": {
  "kernelspec": {
   "display_name": "medpar_outcomes_env",
   "language": "python",
   "name": "python3"
  },
  "language_info": {
   "codemirror_mode": {
    "name": "ipython",
    "version": 3
   },
   "file_extension": ".py",
   "mimetype": "text/x-python",
   "name": "python",
   "nbconvert_exporter": "python",
   "pygments_lexer": "ipython3",
   "version": "3.11.7"
  }
 },
 "nbformat": 4,
 "nbformat_minor": 2
}
